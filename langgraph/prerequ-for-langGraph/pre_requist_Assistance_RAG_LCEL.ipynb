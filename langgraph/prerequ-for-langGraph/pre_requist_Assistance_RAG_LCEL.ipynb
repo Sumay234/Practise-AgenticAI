{
 "cells": [
  {
   "cell_type": "code",
   "execution_count": null,
   "metadata": {},
   "outputs": [],
   "source": []
  },
  {
   "cell_type": "code",
   "execution_count": null,
   "metadata": {},
   "outputs": [],
   "source": []
  },
  {
   "cell_type": "code",
   "execution_count": 1,
   "metadata": {},
   "outputs": [
    {
     "data": {
      "text/plain": [
       "True"
      ]
     },
     "execution_count": 1,
     "metadata": {},
     "output_type": "execute_result"
    }
   ],
   "source": [
    "import os\n",
    "from dotenv import load_dotenv\n",
    "load_dotenv()"
   ]
  },
  {
   "cell_type": "code",
   "execution_count": 2,
   "metadata": {},
   "outputs": [],
   "source": [
    "GOOGLE_API_KEY = os.getenv(\"GOOGLE_API_KEY\")\n",
    "TAVILY_API_KEY = os.getenv(\"TAVILY_API_KEY\")\n",
    "GROQ_API_KEY = os.getenv(\"GROQ_API_KEY\")\n",
    "\n"
   ]
  },
  {
   "cell_type": "code",
   "execution_count": 3,
   "metadata": {},
   "outputs": [],
   "source": [
    "os.environ[\"GOOGLE_API_KEY\"] = GOOGLE_API_KEY\n",
    "os.environ[\"TAVILY_API_KEY\"] = TAVILY_API_KEY\n",
    "os.environ[\"GROQ_API_KEY\"] = GROQ_API_KEY"
   ]
  },
  {
   "cell_type": "code",
   "execution_count": 4,
   "metadata": {},
   "outputs": [],
   "source": [
    "from langchain_google_genai import GoogleGenerativeAIEmbeddings\n",
    "embeddings = GoogleGenerativeAIEmbeddings(model = \"models/embedding-001\")"
   ]
  },
  {
   "cell_type": "code",
   "execution_count": 5,
   "metadata": {},
   "outputs": [],
   "source": [
    "from langchain_google_genai import ChatGoogleGenerativeAI\n",
    "llm = ChatGoogleGenerativeAI(model = \"gemini-1.0-pro-001\")\n",
    "# llm = ChatGoogleGenerativeAI(model = \"gemini-1.0-pro-002\")"
   ]
  },
  {
   "cell_type": "code",
   "execution_count": 9,
   "metadata": {},
   "outputs": [],
   "source": [
    "from langchain_groq import ChatGroq\n",
    "llm = ChatGroq(model = \"Gemma2-9b-IT\")"
   ]
  },
  {
   "cell_type": "markdown",
   "metadata": {},
   "source": [
    "## Simple AI Assistant"
   ]
  },
  {
   "cell_type": "code",
   "execution_count": 10,
   "metadata": {},
   "outputs": [
    {
     "name": "stdout",
     "output_type": "stream",
     "text": [
      "Please provide me with a prompt or question so I can assist you. 😊  \n",
      "\n",
      "For example, you could ask me to:\n",
      "\n",
      "* **Write a story:** \"Write a short story about a robot who learns to feel emotions.\"\n",
      "* **Answer a question:** \"What is the capital of France?\"\n",
      "* **Summarize text:** \"Summarize the plot of the novel *Pride and Prejudice*.\"\n",
      "* **Translate language:** \"Translate 'Hello, how are you?' into Spanish.\"\n",
      "* **Generate creative content:** \"Give me some ideas for a birthday party.\"\n",
      "\n",
      "\n",
      "I'm ready for anything! ✨ \n",
      "\n",
      "Goodbye\n"
     ]
    }
   ],
   "source": [
    "while True:\n",
    "    question = input(\"Type yourquestion: \")\n",
    "    if question != \"q\":\n",
    "        print(llm.invoke(question).content)\n",
    "    else:\n",
    "        print(\"Goodbye\")\n",
    "        break"
   ]
  },
  {
   "cell_type": "markdown",
   "metadata": {},
   "source": [
    "## Memory"
   ]
  },
  {
   "cell_type": "code",
   "execution_count": 11,
   "metadata": {},
   "outputs": [],
   "source": [
    "from langchain_core.chat_history import BaseChatMessageHistory\n",
    "from langchain_core.chat_history import InMemoryChatMessageHistory\n",
    "from langchain_core.runnables.history import RunnableWithMessageHistory\n",
    "from langchain_core.messages import AIMessage"
   ]
  },
  {
   "cell_type": "code",
   "execution_count": 12,
   "metadata": {},
   "outputs": [],
   "source": [
    "store = {}"
   ]
  },
  {
   "cell_type": "code",
   "execution_count": 13,
   "metadata": {},
   "outputs": [],
   "source": [
    "def get_session_history(session_id: str) -> BaseChatMessageHistory:\n",
    "    if session_id not in store:\n",
    "        store[session_id] = InMemoryChatMessageHistory()\n",
    "    return store[session_id]"
   ]
  },
  {
   "cell_type": "code",
   "execution_count": 14,
   "metadata": {},
   "outputs": [],
   "source": [
    "config = {\n",
    "    \"configurable\": {\"session_id\": \"firstchat\"},\n",
    "}"
   ]
  },
  {
   "cell_type": "code",
   "execution_count": 15,
   "metadata": {},
   "outputs": [],
   "source": [
    "model_with_memory = RunnableWithMessageHistory(llm , get_session_history)"
   ]
  },
  {
   "cell_type": "code",
   "execution_count": 16,
   "metadata": {},
   "outputs": [
    {
     "data": {
      "text/plain": [
       "\"Hi Raja! \\n\\nIt's nice to meet you. 😊 \\n\\nDo you have any questions for me, or would you like to chat about something in particular? \\n\\n\""
      ]
     },
     "execution_count": 16,
     "metadata": {},
     "output_type": "execute_result"
    }
   ],
   "source": [
    "model_with_memory.invoke((\"HI my name is sumay but someone call me with raja\"),config = config).content"
   ]
  },
  {
   "cell_type": "code",
   "execution_count": 17,
   "metadata": {},
   "outputs": [
    {
     "data": {
      "text/plain": [
       "'Your name is Sumay, but people also call you Raja!  \\n\\nIs there anything else I can help you with?\\n'"
      ]
     },
     "execution_count": 17,
     "metadata": {},
     "output_type": "execute_result"
    }
   ],
   "source": [
    "model_with_memory.invoke((\"what is my  name\"),config = config).content"
   ]
  },
  {
   "cell_type": "code",
   "execution_count": 19,
   "metadata": {},
   "outputs": [
    {
     "name": "stdout",
     "output_type": "stream",
     "text": [
      "Your name is Sumay, but people also call you Raja! 😊  \n",
      "\n",
      "Do you want to talk about something else?\n",
      "\n",
      "The capital of India is **New Delhi**. \n",
      "\n",
      "Is there anything else you'd like to know? 😊  \n",
      "\n",
      "Goodbye\n"
     ]
    }
   ],
   "source": [
    "while True:\n",
    "    question = input(\"Type your question: \")\n",
    "    if question != \"q\":\n",
    "        print(model_with_memory.invoke(question,config = config).content)\n",
    "    else:\n",
    "        print(\"Goodbye\")\n",
    "        break"
   ]
  },
  {
   "cell_type": "code",
   "execution_count": 33,
   "metadata": {},
   "outputs": [
    {
     "data": {
      "text/plain": [
       "{'firstchat': InMemoryChatMessageHistory(messages=[HumanMessage(content='HI my name is sumay but someone call me with raja', additional_kwargs={}, response_metadata={}), AIMessage(content=\"Hi Raja! \\n\\nIt's nice to meet you. 😊 \\n\\nDo you have any questions for me, or would you like to chat about something in particular? \\n\\n\", additional_kwargs={}, response_metadata={'token_usage': {'completion_tokens': 40, 'prompt_tokens': 21, 'total_tokens': 61, 'completion_time': 0.072727273, 'prompt_time': 0.002116796, 'queue_time': 0.015883133, 'total_time': 0.074844069}, 'model_name': 'Gemma2-9b-IT', 'system_fingerprint': 'fp_10c08bf97d', 'finish_reason': 'stop', 'logprobs': None}, id='run-534ad46d-21e6-45e5-9899-eb661d2aecd3-0', usage_metadata={'input_tokens': 21, 'output_tokens': 40, 'total_tokens': 61}), HumanMessage(content='what is my  name', additional_kwargs={}, response_metadata={}), AIMessage(content='Your name is Sumay, but people also call you Raja!  \\n\\nIs there anything else I can help you with?\\n', additional_kwargs={}, response_metadata={'token_usage': {'completion_tokens': 28, 'prompt_tokens': 73, 'total_tokens': 101, 'completion_time': 0.050909091, 'prompt_time': 0.004029392, 'queue_time': 0.017120595, 'total_time': 0.054938483}, 'model_name': 'Gemma2-9b-IT', 'system_fingerprint': 'fp_10c08bf97d', 'finish_reason': 'stop', 'logprobs': None}, id='run-08fc871f-95a0-4ab6-8469-3567bfd76f6c-0', usage_metadata={'input_tokens': 73, 'output_tokens': 28, 'total_tokens': 101}), HumanMessage(content='what is my name', additional_kwargs={}, response_metadata={}), AIMessage(content='Your name is Sumay, but people also call you Raja! 😊  \\n\\nDo you want to talk about something else?\\n', additional_kwargs={}, response_metadata={'token_usage': {'completion_tokens': 28, 'prompt_tokens': 113, 'total_tokens': 141, 'completion_time': 0.050909091, 'prompt_time': 0.019152102, 'queue_time': 0.090050703, 'total_time': 0.070061193}, 'model_name': 'Gemma2-9b-IT', 'system_fingerprint': 'fp_10c08bf97d', 'finish_reason': 'stop', 'logprobs': None}, id='run-aaf5c110-483d-4d6d-a621-09b9013b3295-0', usage_metadata={'input_tokens': 113, 'output_tokens': 28, 'total_tokens': 141}), HumanMessage(content='capital of india', additional_kwargs={}, response_metadata={}), AIMessage(content=\"The capital of India is **New Delhi**. \\n\\nIs there anything else you'd like to know? 😊  \\n\", additional_kwargs={}, response_metadata={'token_usage': {'completion_tokens': 27, 'prompt_tokens': 152, 'total_tokens': 179, 'completion_time': 0.049090909, 'prompt_time': 0.007605825, 'queue_time': 0.017653311, 'total_time': 0.056696734}, 'model_name': 'Gemma2-9b-IT', 'system_fingerprint': 'fp_10c08bf97d', 'finish_reason': 'stop', 'logprobs': None}, id='run-26ce8c9f-2385-46c4-9437-2be1176c8696-0', usage_metadata={'input_tokens': 152, 'output_tokens': 27, 'total_tokens': 179})])}"
      ]
     },
     "execution_count": 33,
     "metadata": {},
     "output_type": "execute_result"
    }
   ],
   "source": [
    "store"
   ]
  },
  {
   "cell_type": "markdown",
   "metadata": {},
   "source": [
    "## Tools and Agents"
   ]
  },
  {
   "cell_type": "code",
   "execution_count": 35,
   "metadata": {},
   "outputs": [],
   "source": [
    "from langchain_community.tools import WikipediaQueryRun\n",
    "from langchain_community.utilities import WikipediaAPIWrapper"
   ]
  },
  {
   "cell_type": "code",
   "execution_count": 38,
   "metadata": {},
   "outputs": [],
   "source": [
    "api_wrapper = WikipediaAPIWrapper()"
   ]
  },
  {
   "cell_type": "code",
   "execution_count": 39,
   "metadata": {},
   "outputs": [],
   "source": [
    "tool = WikipediaQueryRun(api_wrapper = api_wrapper)   "
   ]
  },
  {
   "cell_type": "code",
   "execution_count": 40,
   "metadata": {},
   "outputs": [
    {
     "data": {
      "text/plain": [
       "'wikipedia'"
      ]
     },
     "execution_count": 40,
     "metadata": {},
     "output_type": "execute_result"
    }
   ],
   "source": [
    "tool.name"
   ]
  },
  {
   "cell_type": "code",
   "execution_count": 41,
   "metadata": {},
   "outputs": [
    {
     "data": {
      "text/plain": [
       "'A wrapper around Wikipedia. Useful for when you need to answer general questions about people, places, companies, facts, historical events, or other subjects. Input should be a search query.'"
      ]
     },
     "execution_count": 41,
     "metadata": {},
     "output_type": "execute_result"
    }
   ],
   "source": [
    "tool.description"
   ]
  },
  {
   "cell_type": "code",
   "execution_count": 42,
   "metadata": {},
   "outputs": [
    {
     "data": {
      "text/plain": [
       "{'query': {'description': 'query to look up on wikipedia',\n",
       "  'title': 'Query',\n",
       "  'type': 'string'}}"
      ]
     },
     "execution_count": 42,
     "metadata": {},
     "output_type": "execute_result"
    }
   ],
   "source": [
    "tool.args"
   ]
  },
  {
   "cell_type": "code",
   "execution_count": 44,
   "metadata": {},
   "outputs": [
    {
     "name": "stdout",
     "output_type": "stream",
     "text": [
      "Page: LangChain\n",
      "Summary: LangChain is a software framework that helps facilitate the integration of large language models (LLMs) into applications. As a language model integration framework, LangChain's use-cases largely overlap with those of language models in general, including document analysis and summarization, chatbots, and code analysis.\n",
      "\n",
      "Page: Retrieval-augmented generation\n",
      "Summary: Retrieval-augmented generation (RAG) is a technique that grants generative artificial intelligence models information retrieval capabilities. It modifies interactions with a large language model (LLM) so that the model responds to user queries with reference to a specified set of documents, using this information to augment information drawn from its own vast, static training data. This allows LLMs to use domain-specific and/or updated information.  \n",
      "Use cases include providing chatbot access to internal company data or giving factual information only from an authoritative source.\n",
      "\n",
      "Page: Milvus (vector database)\n",
      "Summary: Milvus is a distributed vector database developed by Zilliz. It is available as both open-source software and a cloud service.\n",
      "Milvus is an open-source project under LF AI & Data Foundation distributed under the Apache License 2.0.\n",
      "\n",
      "\n"
     ]
    }
   ],
   "source": [
    "print(tool.run({\"query\" : \"langchain\"}))"
   ]
  },
  {
   "cell_type": "code",
   "execution_count": 45,
   "metadata": {},
   "outputs": [
    {
     "name": "stdout",
     "output_type": "stream",
     "text": [
      "Page: India\n",
      "Summary: India, officially the Republic of India, is a country in South Asia.  It is the seventh-largest country by area; the most populous country from June 2023 onwards; and since its independence in 1947, the world's most populous democracy. Bounded by the Indian Ocean on the south, the Arabian Sea on the southwest, and the Bay of Bengal on the southeast, it shares land borders with Pakistan to the west; China, Nepal, and Bhutan to the north; and Bangladesh and Myanmar to the east. In the Indian Ocean, India is near Sri Lanka and the Maldives; its Andaman and Nicobar Islands share a maritime border with Thailand, Myanmar, and Indonesia.\n",
      "Modern humans arrived on the Indian subcontinent from Africa no later than 55,000 years ago. Their long occupation, predominantly in isolation as hunter-gatherers, has made the region highly diverse, second only to Africa in human genetic diversity. Settled life emerged on the subcontinent in the western margins of the Indus river basin 9,000 years ago, evolving gradually into the Indus Valley Civilisation of the third millennium BCE. By 1200 BCE, an archaic form of Sanskrit, an Indo-European language, had diffused into India from the northwest. Its hymns recorded the dawning of Hinduism in India. India's pre-existing Dravidian languages were supplanted in the northern regions. By 400 BCE, caste had emerged within Hinduism, and Buddhism and Jainism had arisen, proclaiming social orders unlinked to heredity. Early political consolidations gave rise to the loose-knit Maurya and Gupta Empires. Widespread creativity suffused this era, but the status of women declined, and untouchability became an organized belief. In South India, the Middle kingdoms exported Dravidian language scripts and religious cultures to the kingdoms of Southeast Asia.\n",
      "In the early mediaeval era, Christianity, Islam, Judaism, and Zoroastrianism became established on India's southern and western coasts. Muslim armies from Central Asia intermittently overran India's northern plains. The resulting Delhi Sultanate drew northern India into the cosmopolitan networks of mediaeval Islam. In south India, the Vijayanagara Empire created a long-lasting composite Hindu culture. In the Punjab, Sikhism emerged, rejecting institutionalised religion. The Mughal Empire, in 1526, ushered in two centuries of relative peace, leaving a legacy of luminous architecture. Gradually expanding rule of the British East India Company followed. It turned India into a colonial economy but consolidated its sovereignty. British Crown rule began in 1858. The rights promised to Indians were granted slowly, but technological changes were introduced, and modern ideas of education and public life took root. A pioneering and influential nationalist movement emerged. Noted for nonviolent resistance it became the major factor in ending British rule. In 1947, the British Indian Empire was partitioned into two independent dominions, a Hindu-majority dominion of India and a Muslim-majority dominion of Pakistan. A large-scale loss of life and an unprecedented migration accompanied the partition.\n",
      "India has been a federal republic since 1950, governed through a democratic parliamentary system. It is a pluralistic, multilingual and multi-ethnic society. India's population grew from 361 million in 1951 to almost 1.4 billion in 2022.\n",
      "During this time, its nominal per capita income increased from US$64 annually to US$2,601, and its literacy rate from 16.6% to 74%. A comparatively destitute country in 1951, India has become a fast-growing major economy and a hub for information technology services; it has an expanding middle class. Indian movies and music increasingly influence global culture. India has reduced its poverty rate, though at the cost of increasing economic inequality. It is a nuclear-weapon state that ranks high in military expenditure. It has disputes over Kashmir with its neighbours, Pakistan and China, unresolved since the mid-20th century. Amon\n"
     ]
    }
   ],
   "source": [
    "print(tool.run({\"query\" : \"About the India\"}))"
   ]
  },
  {
   "cell_type": "code",
   "execution_count": 47,
   "metadata": {},
   "outputs": [],
   "source": [
    "from langchain_community.tools.tavily_search import TavilySearchResults"
   ]
  },
  {
   "cell_type": "code",
   "execution_count": 48,
   "metadata": {},
   "outputs": [],
   "source": [
    "tool3 = TavilySearchResults()"
   ]
  },
  {
   "cell_type": "code",
   "execution_count": 49,
   "metadata": {},
   "outputs": [
    {
     "data": {
      "text/plain": [
       "[{'url': 'https://en.lordjagannath.in/sri-jagannath/the-antiquity-of-jagannath-mahaprabhu',\n",
       "  'content': \"Finally, the legend of the tribal origin of Mahaprabhu. It's believed that Jagannath was worshiped by Sabaras (a caste of hunters) in far-off Koraput district.\"},\n",
       " {'url': 'https://justkalinga.com/in/the-origin-story-of-shri-jagannath-mahaprabhu-part-1/?srsltid=AfmBOooR751hsi3Qf97AIWt6sJGpP3745DWO9tr5ny6dRfQIT6UrXtbF',\n",
       "  'content': \"Embark on a captivating exploration of the origins of Lord Jagannath with this insightful e-book, ``The Origin Story of Shri Jagannath Mahaprabhu Part 1.'' Delve into the rich tapestry of traditions and legends that surround this beloved deity of Odisha.\"},\n",
       " {'url': 'https://yourspositively.com/the-mystery-joy-and-glory-of-mahaprabhu-jagannath/',\n",
       "  'content': \"MANAS DAS' effusive description of the glorious history and mystery of Mahaprabhu Jagannath will evoke joy and divinity within each one of us.\"},\n",
       " {'url': 'https://svastika.in/blogs/blog/who-is-lord-jagannath?srsltid=AfmBOop7wlUg7-6FQrt_8QheGkdZEVhjGhUyt6DDUM3ns6ywYCpOlbkK',\n",
       "  'content': \"Sri Jagannath is thought to be one of Lord Krishna's incarnations as the eighth manifestation of Lord Vishnu. In a triumvirate with his siblings\"},\n",
       " {'url': 'https://en.wikipedia.org/wiki/Jagannath',\n",
       "  'content': 'The origin and evolution of Jagannath worship is unclear. Some scholars interpret hymn 10.155.3 of the Rigveda as a possible origin, but others'}]"
      ]
     },
     "execution_count": 49,
     "metadata": {},
     "output_type": "execute_result"
    }
   ],
   "source": [
    "tool3.run({\"query\" : \"History of Jaggarnath Maahapraabhu\"})"
   ]
  },
  {
   "cell_type": "code",
   "execution_count": 50,
   "metadata": {},
   "outputs": [
    {
     "data": {
      "text/plain": [
       "[{'url': 'https://gaudiyahistory.iskcondesiretree.com/tag/haridasa-thakura/',\n",
       "  'content': 'Haridas Thakur is the Acharya of the chanting of the Holy Names. He has spread the Holy Name of Krishna in all directions. But now the Lord has taken him away'},\n",
       " {'url': 'https://thegaudiyatreasuresofbengal.com/2021/05/01/namacharya-haridas-thakur/',\n",
       "  'content': 'Srila Haridas Thakur is the namacharya of the Brahma-Madhva-Gaudiya sampradaya and is an eternal associate of Sri Chiatanya Mahaprabhu.'},\n",
       " {'url': 'https://www.quora.com/Whats-the-story-of-Haridas-Thakur-in-ancient-history',\n",
       "  'content': 'Haridas Thakur, also known as Lord Brahma, Prahlada Maharaja, and Mahatapa, is an important figure in the Brahma-Madhva-Gaudiya sampradaya.'},\n",
       " {'url': 'https://en.wikipedia.org/wiki/Haridasa_Thakur',\n",
       "  'content': 'Haridasa Thakura was a devotee of the deity Krishna, and is regarded to have practised the chant of his veneration, the Hare Krishna mantra, 300,000 times daily'},\n",
       " {'url': 'https://www.reddit.com/r/IndiaSpeaks/comments/c9egxt/haridasa_thakur_iast_harid%C4%81sa_born_1450_was_an/',\n",
       "  'content': 'Haridas Thakur, a Muslim who converted to Dharma, would chant the names of Shri Hari until the sun came up. The sultan got worried and sent'}]"
      ]
     },
     "execution_count": 50,
     "metadata": {},
     "output_type": "execute_result"
    }
   ],
   "source": [
    "tool3.run({\"query\" : \"What is hari das thakur\"})"
   ]
  },
  {
   "cell_type": "code",
   "execution_count": 51,
   "metadata": {},
   "outputs": [
    {
     "data": {
      "text/plain": [
       "'Page: Sampradaya\\nSummary: Sampradaya (/səmpɾəd̪ɑjə/,Sanskrit: सम्प्रदाय; IAST: Saṃpradāya), in Indian-origin religions, namely Hinduism, Buddhism, Jainism, and Sikhism, can be translated as \\'tradition\\', \\'spiritual lineage\\', \\'sect\\', or \\'religious system\\'. To ensure continuity and transmission of dharma, various sampradayas have the Guru-shishya parampara in which parampara or lineage of successive gurus (masters) and shishyas (disciples) serves as a spiritual channel and provides a reliable network of relationships that lends stability to a religious identity. Shramana is vedic term for seeker or shishya. Identification with and followership of sampradayas is not static, as sampradayas allows flexibility where one can leave one sampradaya and enter another or practice religious syncretism by simultaneously following more than one sampradaya. Samparda is a Punjabi language term, used in Sikhism, for sampradayas.\\n\\nPage: Daśanāmi Sampradaya\\nSummary: The Daśanāmi Sampradaya (IAST: Daśanāmī Saṃpradāya \"Tradition of Ten Names\"), also known as the Order of Swamis, is a Hindu monastic tradition of \"single-staff renunciation\" (ēka daṇḍi saṃnyāsī) Ēkadandis were already known during what is sometimes referred to as \"Golden Age of Hinduism\" (ca. 320-650 CE). According to hagiographies composed in the 14th-17th century, the Daśanāmi Sampradaya was established by Vedic scholar and teacher Adi Shankaracharya (9th cent. CE), organizing a section of the Ekadandi monks under an umbrella grouping of ten names and the four cardinal mathas of the Advaita Vedanta tradition. However, the association of the Dasanāmis with the Shankara maṭhas remained nominal.\\n\\n\\n\\nPage: Shri Guru Charitra\\nSummary: The Shri Guru Charitra is a book based on the life of Shri Nrusimha Saraswati (a.k.a Narasimha Saraswati), written by the 15th-16th century poet Shri Saraswati Gangadhar.\\nThe book is based on the life of Shri Narshimha Saraswati, his philosophy and related stories. The language used is the 14-15th century Marathi. The book is written as a conversation between Siddha (who is a disciple of Shri Narasimha Saraswati) and Naamdharak who is listening to Siddha. \\nGuru Charitra is divided into 3 parts: Dnyan kaand (Knowledge), Karma kaand (Work) and Bhakti Kaand (Devotion). It has 53 Chapters in which, the 53rd chapter is also called as ′Gurucharitra Avatarnika′ which is the summary of the book.\\nThe book is assumed to be written in a village in Karnataka known as Kadaganchi. The writer was Saraswati Gangadhar who was a poet and an extreme vanshaj of Sayamdev Sakhare one of the disciples from four favorite disciples of Shri Narasimha Saraswati.\\n\\n'"
      ]
     },
     "execution_count": 51,
     "metadata": {},
     "output_type": "execute_result"
    }
   ],
   "source": [
    "tool.run({\"query\" : \"Name all the sampradayas in hinduism\"})"
   ]
  },
  {
   "cell_type": "code",
   "execution_count": null,
   "metadata": {},
   "outputs": [],
   "source": []
  }
 ],
 "metadata": {
  "kernelspec": {
   "display_name": "Python 3",
   "language": "python",
   "name": "python3"
  },
  "language_info": {
   "codemirror_mode": {
    "name": "ipython",
    "version": 3
   },
   "file_extension": ".py",
   "mimetype": "text/x-python",
   "name": "python",
   "nbconvert_exporter": "python",
   "pygments_lexer": "ipython3",
   "version": "3.12.4"
  }
 },
 "nbformat": 4,
 "nbformat_minor": 2
}
